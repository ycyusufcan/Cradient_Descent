{
  "nbformat": 4,
  "nbformat_minor": 0,
  "metadata": {
    "colab": {
      "name": "gradient.ipynb",
      "provenance": [],
      "collapsed_sections": []
    },
    "kernelspec": {
      "name": "python3",
      "display_name": "Python 3"
    },
    "language_info": {
      "name": "python"
    }
  },
  "cells": [
    {
      "cell_type": "code",
      "metadata": {
        "id": "mMqMKYPEvm09"
      },
      "source": [
        "import numpy as np\n",
        "import matplotlib.pyplot as plt"
      ],
      "execution_count": 57,
      "outputs": []
    },
    {
      "cell_type": "markdown",
      "metadata": {
        "id": "oDU5PDcCIZH4"
      },
      "source": [
        "### What is gradient descent\n",
        "\n",
        "![image.png](data:image/png;base64,iVBORw0KGgoAAAANSUhEUgAAAS0AAAEBCAYAAAAtjfOjAAAAAXNSR0IArs4c6QAAAARnQU1BAACxjwv8YQUAAAAJcEhZcwAADsMAAA7DAcdvqGQAAA1uSURBVHhe7d0NkuOoEoXR6beT8v7X5K306+yujGFoBEggmZt8J8LhcunHkIJr7PL0/Pj5yz8AIOJ/3/cAIIHQAiCF0AIghdACIIXQAiCF0AIghdACIIXQAiCF0AIghdACIIXQAiCF0AIghdACIIXQAiCF0AIghdAK4vV6/b5F1+rjLnXYGf8IYAA2Sd/v9/ej2DyQWv3dqSa7YaUFGR5EdtttNWX99dvuWGmJ84kcXamfrb5HqU3eD3tsdrjuJay0sLyj8LHf+QSOqtR3fxy970dYaQk7msz4l3KNWm330NptDLDSAhZlYbTraqqG0AIW5YHVCq7dgo3QEmUDlbeGbcqrFb++reu82zjYPrRsQPstKvW+fbr9s5//zPl4YfrbtqFlA8duNij85r+LIu1jrV+r9lu9/bjHln899IlQUtuWmzVRep8v1dPOdB9va+mYM31+0qz2n+1f/ly97Tgy+3zm6nEhWGjt5Ovr6/unstb2VZztR23/Ffs8s/1X++fH5fdXzTzfaFuUbfX2MH2Fy9m22nY16v1Yof3WBl/RzBgbs84XaZxesc3bQx8sR9QGwZmBW9v37HlGXanzaPvP9DGX9vnqOVKj5xvpSxi/11sbsOV0pCX1mb7U9lWoyWj7r/bRj8vvrxo93+jzR7HdSmvmq1T6qjni7lfc2r4Kr9yj7T/bR9vf+DHp8fm2HjPOlx6Tq22LaKvQinRhe/tTmxS1bauY0f7eWh0ZPT539nyt/We3b3XbfBBvF9UubkvPPkpag3n1wa7e/lE+Hu3+6Ba9Brmt/npoF9cucm63AeB9VfV0+2ePid1CZrZtv1yaUh1E1o/etqd9tmP8sUrfr7b/TI1Wk/a5RrV/V20ZWlGMTEjlyWx626/eT/xt+/9gOrLeV+pVqbcf9yC0hNkKojWxS9uVVh8j7VfqJ/oRWkH5ZM8nbSkEVqTeftyH0BJnk7o0kUsrDNvPfl/atprR9vu+iIcP4gOoTdA00BQn8dX2E1pxEVpB+OTefaJSh/gILQBS+EwLgBRCC4AUQguAFEILgBRCC4AUQguAFEILgBRCC4AUQguAFEILgBRCC4AUQguAFEILgBRCC4AUQguAFEILgBRCC4AUQguAFEILgBRCC4AUQguAFEILgBRCC4AUQguAFEILgBRCC4AUQguAFEILgBRCK4jX6/X9ExDbj5+/fP8MYR5a7/f7972iVvCmfavt6/uV9lGuD/4gtAKwyZlO1AgT0wOn1peefUzvftDA20NxeUjZzz5Jd0AQ7YfQEpYHlosQXN6vo34c9R3xEVrCapM28oQmsPZGaGELhFwchBaW5UGTvkVklQVCCxIsrAgsGEJLWLoC2cGMwPLwgy6+pyXIJ51N4trqI91P2Ug/8oDyc0SpzY4ILUFpUNUmX7pfSz65r7ojBEYCZlZ9sA5CS0w+0WoTL8Kk9D7YvTnbn+j12RGfaYnZaZI9ESoehtBBaAmLvIqY0f6ecyjXaFeEFpZTCht/bNuwNz7TElZbSZxdqcwKg9GVS6tPpvc5Zp4L6yC0RNUmneqErIWMOduv2vlaz4V18fZQVGvCqU3InhDx7R5eVxFY2gitQGwyjk7oT7irzRZM6bm9PgSWNt4eiksnZTpJV5+Yabtzedtr+7paf1Vqgj6EVjA2QZmciIy3h4J6Vh5AVISWqFJwscrCDggtMUefz7D6wi4ILTGllZSvsFhlYQd8EC8qXVkRVtgJoQVACm8PAUghtABIIbQASCG0AEghtABIIbQASCG0AEghtABIIbQASCG0AEghtABIIbQASCG0AEghtABIIbQASCG0AEghtABIIbQASCG0AEghtABIIbQASCG0AEghtABIIbQASCG0AEghtABIIbQW9nq9ft9wD+qr6cfPX75/xkJsMr3f7+9HcbVCI61BbV/br7S9p4a71DoKQmtRO04kD51av2ftk4pWa++/iTiGeHu4oGiTaLbZtbHzpRNdmY8dv9njKH1zhBaW4WF0NMl8QqKsVJ9WTRURWothYpbdXRc7t/LErtUnWnARWghpt+BXD90zCC0spbQqqK0i8IfXqxVcEYKN0FoIk/O/rB5P1kR5teI1atUqwvgKGVo+2FUHYI/IfUuNTrKnx8Hs5zpzvgiB1CNUaPkAtYvnN/9dFGkfa/1S7vfI5PM+e/+jjoOdhflyqQ/Qktq23KyBfWXi9bQz3cfbWjrmTJ9XVOtbzWhNztYtf770+Fpbjsw+n7l63LIstNR9fX19/1TW2r6Ks/2o7a/S5xJvu92f7cdoTc4+n/Pj8vurZp5vtC2rkX97mL4S5WxbbbuaMK+UFXdfL191zGZt9nPP6MOs881oy2qk3x76RT2idrHODLDavmfPM2pWnfN2e9tm1MT01KVnnyPeXnP1HKnR8430ZWm/11uibNkbael7pi+1fRVrctRm+31vf1r79Zyn97lyflx+f9Xo+Uaff2V8Tytjr04zbuhn9bp7RXDXNfHrnbffHvu2M2acr3S86zl+dfJvD48ujqLe/vjAK+1b27aiVp/P9Kd2rtbzuN79jowenzt7vtb+s9v3CdIrLSu+XYSWnn2UtAadyqDsmUC+feQaRpioPbxGdn90i1AH+beHdhHsYuSiXagW76uKO9qajwWvyZPXf/Zz7TB2zwr15dKU6sU+M8nSPtsx/njVvufXKJW3ubavO+rn1TrYcavWrqWnXka1fyn+ueXFjEwc5Um3Auqngb8eiul9RQWiIrQWY6/0rWAqbWeVMIb66SC0hHhY5ZOrFXJAJITWgo5WW6WVgK8QWCVcxypLC6ElxgPNb0w27Ia/Hi7MQskQTPegvpoILQBSeHsIQAqhBUAKoQVACqEFQAqhBUAKoQVACqEFQAqhBUAKoQVACqEFQAqhBUAKoQVACqEFQAqhBUAKoQVACqEFQAqhBUAKoQVACqEFQAqhBUAKoQVACqEFQAqhBUAKoQVACqEFQAqhBUDKMv9b/Nfr9f3Tv97v9/dPAPDHMqGVsgAjsACU8PYQgBRCC4AUQguAlOVCi8+zANSw0gIghdACIOWjoWVvBUvfz+rlx4+cA4CWj3xPy0PGP7vKQ6f1mVZ+vCn9DkA8j4dWLVxsW09gHe3TczwAbR95e3g1WAglAI+G1kjotFZYBBqwh0ffHraCx5S2+7YjhBWwj6VC60qgAdgL39MCIOWx0Gq9xcvl+7PKAmAeC61a6OQBlb9VtJ97Qu9sMEZkNaAO9xqtcaRr9Im+fPQzLe+sh5Jvy/dzpd/7OUzpmJ0c1S2i9LqXpHWo7Wv7lbb31PFKvT99jWbWLfVkvz725VJT6ripdT4v5FOFelKtRjVPDpyVnBk3o/ukrtR7pWs0syZP9uvx0EJdfvFXHDSr6alRT316a506U/fVrtGsurmn+sdfDxdSuuj+2AcY/taq0VOTSY1q3QitRdQGCJPyurtrY+c+ui4ptWt0pb29tRhFaC3iqQuOOqVg2RWhtQgPrFZwEWxlHjZpfexnQqhOsW6E1iJ8kLQGS76difk3q8mTdbHnSSd9TuUazahbqxYzEFoLeWJg3z2gVjFaS5/Au1EIV0JrEz4JW6+EypN1ZMJ5n73/di6vlWo9eikEVYrQyvggHb3N5OcbHVzp8bU2qg3imazvaf93rsWy7MulWNvX19f3T3+rbXP5PqPnW5W33e7P9mO0JqPHf5K3z+5ntPXu/rLSWpytiEZf7XdYLcyoU83s1fMq7q7bHW79z3g+faHVJ2vPgDo76Gr7nznXjGs76/rk7fa2nelLbd+eutT26TneeLtH9PbZ5O3y5z9zjpLe/l72e72F5fQusc8uxWv7372sv8NRm+33vf1p7ddznto+ve140lGb7Pej7b27v7w9zNirxIzbCDv+6JVq9NyR1Oo0S8R6P1G3OxFaGbuYM25X3TmgahNQbXI+OfGeep4nqAeWIbQW4sFh90e3kQHXOlZlMPfUwbfbvleN1ns1T9XtboTW5mxwrjxAc3e01SZqel6vSbTAimKpfwSwVNha8u84qEp9PjvB0uey4/zxqvWs1SZvc08dj/p5tQ52XOuYnn1me6puqSf6uey/XHrUeS/u0wNgZaMD5YmBFllP/Xap8RP95O3hJmwwAREQWgHYK1tPKJX22WUFcJfe+vVeI2VPjSVCawM+WfIBFX0SIaYlQ6uV2E+kuZraK3mpXl5janlda5zmatdI3dlajGCltQmfMH4jrKBqyb8e1iYVE67O6mOo0X1GaxzpGn2iLx8PrVKn7XdHRUi3Rbr4APp8LLTywPHHrhRER/sQXsA+PvKZVilk7Gd/3AqfdF/T2h9AHB/7IP5q0BBQwN4eDy1bZd0VPPnbRwDxLPWVh1ro9IQdqzAgvuW+p0XwAKhZLrSu4G0hsI9HQ+tsuJzZnxUasIdHQ6sWLHlA9XyGZXr3AxDDx98eWuj0BI9tT4Ot9zgAsXzkG/Fp+OSh49uOwqi1HUBsy/5zywBQEuKvhwD2QWgBkEJoAZBCaAGQQmgBkEJoAZBCaAGQQmgBkEJoAZBCaAGQQmgBkEJoAZBCaAGQQmgBkEJoAZBCaAGQQmgBEPLPP/8HNhwoQpmN0hMAAAAASUVORK5CYII=)"
      ]
    },
    {
      "cell_type": "markdown",
      "metadata": {
        "id": "fQKAsgM1TPJr"
      },
      "source": [
        "## Let's define the gradient descent function"
      ]
    },
    {
      "cell_type": "code",
      "metadata": {
        "id": "0bz_fvnns2IU"
      },
      "source": [
        "# for example 4 * teta = 12 \n",
        "\n",
        "def gradient_descent(X, y, tolerance=10**-6, max_iter=1000, lr=0.1, normalize=False):\n",
        "  if normalize :\n",
        "    X = X / y\n",
        "    y = y / y\n",
        "  \n",
        "  teta = np.random.random()\n",
        "  print(\"random coef:\", teta)\n",
        "\n",
        "  gradient = 10\n",
        "  iter = 0\n",
        "\n",
        "  while (abs(gradient) > tolerance) and (max_iter > iter):\n",
        "    gradient = 2 * (y- teta * X) * (-X)\n",
        "\n",
        "    teta = teta - lr * gradient\n",
        "\n",
        "    iter += 1\n",
        "  return teta\n",
        "\n",
        "# we expect to converge gradient to 3"
      ],
      "execution_count": 34,
      "outputs": []
    },
    {
      "cell_type": "code",
      "metadata": {
        "colab": {
          "base_uri": "https://localhost:8080/"
        },
        "id": "AKsUHaSBvfx9",
        "outputId": "2bd1d832-42fb-4e6f-b220-1e47e6edc7ec"
      },
      "source": [
        "gradient_descent(4, 12, lr=0.1, normalize = False)\n",
        "# lr is not enough to converge here. if we normalize gradient_descent may converge"
      ],
      "execution_count": 35,
      "outputs": [
        {
          "output_type": "stream",
          "name": "stdout",
          "text": [
            "random coef: 0.9754882645380564\n"
          ]
        },
        {
          "output_type": "execute_result",
          "data": {
            "text/plain": [
              "nan"
            ]
          },
          "metadata": {},
          "execution_count": 35
        }
      ]
    },
    {
      "cell_type": "code",
      "metadata": {
        "colab": {
          "base_uri": "https://localhost:8080/"
        },
        "id": "e2VoauvsH4bR",
        "outputId": "38e59a75-0911-4c65-c814-43f767e21bc4"
      },
      "source": [
        "gradient_descent(4, 12, lr=0.1, normalize = True)\n",
        "# it converged"
      ],
      "execution_count": 36,
      "outputs": [
        {
          "output_type": "stream",
          "name": "stdout",
          "text": [
            "random coef: 0.9431982782012827\n"
          ]
        },
        {
          "output_type": "execute_result",
          "data": {
            "text/plain": [
              "2.9999956073463445"
            ]
          },
          "metadata": {},
          "execution_count": 36
        }
      ]
    },
    {
      "cell_type": "markdown",
      "metadata": {
        "id": "DpPZK5UnVDyH"
      },
      "source": [
        "## what happens when gradient > old_gradient"
      ]
    },
    {
      "cell_type": "code",
      "metadata": {
        "id": "1-L-9VAHIPyi"
      },
      "source": [
        "# Let's make gradient_descent better\n",
        "\n",
        "def gradient_descent(X, y, tolerance=10**-6, max_iter=1000, lr=0.1, normalize=False):\n",
        "  if normalize :\n",
        "    X = X / y\n",
        "    y = y / y\n",
        "  \n",
        "  teta = np.random.random()\n",
        "  print(\"random coef:\", teta)\n",
        "\n",
        "  gradient = 10  # it is an arbitrary number to start while loop\n",
        "  iter = 0  # iteration number of while loop\n",
        "\n",
        "  old_gradient = 20\n",
        "\n",
        "  while (abs(gradient) > tolerance) and (max_iter > iter):\n",
        "\n",
        "    gradient = 2 * (y- teta * X) * (-X) # gradient formula\n",
        "\n",
        "    # if gradeint is not descending break the loop\n",
        "    if abs(gradient) > abs(old_gradient):\n",
        "      print(\"Gradient is not descending\", gradient)\n",
        "      break\n",
        "\n",
        "    teta = teta - lr * gradient # update teta\n",
        "\n",
        "    old_gradient = gradient\n",
        "\n",
        "    iter += 1\n",
        "\n",
        "    if iter%100==0:\n",
        "      print(\"Iteration:\", iter)\n",
        "  return teta"
      ],
      "execution_count": 37,
      "outputs": []
    },
    {
      "cell_type": "code",
      "metadata": {
        "colab": {
          "base_uri": "https://localhost:8080/"
        },
        "id": "q402wdZmIP0_",
        "outputId": "eb0a140f-45e0-40c4-9214-3a8f9a4c90c0"
      },
      "source": [
        "gradient_descent(4, 12, lr=0.1, normalize = False)\n",
        "# could not converged"
      ],
      "execution_count": 38,
      "outputs": [
        {
          "output_type": "stream",
          "name": "stdout",
          "text": [
            "random coef: 0.42449545900656616\n",
            "Gradient is not descending -82.41614531178988\n"
          ]
        },
        {
          "output_type": "execute_result",
          "data": {
            "text/plain": [
              "0.42449545900656616"
            ]
          },
          "metadata": {},
          "execution_count": 38
        }
      ]
    },
    {
      "cell_type": "code",
      "metadata": {
        "colab": {
          "base_uri": "https://localhost:8080/"
        },
        "id": "Y91b3vNQIP3W",
        "outputId": "2e56f886-2991-4c07-f2bb-1bbccfcfbe83"
      },
      "source": [
        "gradient_descent(4, 12, lr=0.1, normalize = True)\n",
        "# converged"
      ],
      "execution_count": 40,
      "outputs": [
        {
          "output_type": "stream",
          "name": "stdout",
          "text": [
            "random coef: 0.3248873547962121\n",
            "Iteration: 100\n",
            "Iteration: 200\n",
            "Iteration: 300\n",
            "Iteration: 400\n",
            "Iteration: 500\n"
          ]
        },
        {
          "output_type": "execute_result",
          "data": {
            "text/plain": [
              "2.9999956372677348"
            ]
          },
          "metadata": {},
          "execution_count": 40
        }
      ]
    },
    {
      "cell_type": "code",
      "metadata": {
        "colab": {
          "base_uri": "https://localhost:8080/"
        },
        "id": "A2FoCJIMIP5q",
        "outputId": "42d37da6-f0ba-4520-c880-2039fedf3f14"
      },
      "source": [
        "gradient_descent(4, 12, lr=0.001, normalize = False)\n",
        "# as you see old_gradient is not enough big. So we should make it bigger. for example infinitive"
      ],
      "execution_count": 41,
      "outputs": [
        {
          "output_type": "stream",
          "name": "stdout",
          "text": [
            "random coef: 0.23578295246972125\n",
            "Gradient is not descending -88.45494552096892\n"
          ]
        },
        {
          "output_type": "execute_result",
          "data": {
            "text/plain": [
              "0.23578295246972125"
            ]
          },
          "metadata": {},
          "execution_count": 41
        }
      ]
    },
    {
      "cell_type": "code",
      "metadata": {
        "id": "8XW6nXeyIP7g"
      },
      "source": [
        "def gradient_descent(X, y, tolerance=10**-6, max_iter=1000, lr=0.1, normalize=False):\n",
        "  if normalize :\n",
        "    X = X / y\n",
        "    y = y / y\n",
        "  \n",
        "  teta = np.random.random()\n",
        "  print(\"random coef:\", teta)\n",
        "\n",
        "  gradient = 10  # it is an arbitrary number to start while loop\n",
        "  iter = 0  # iteration number of while loop\n",
        "\n",
        "  old_gradient = float(\"inf\")  #\n",
        "\n",
        "  while (abs(gradient) > tolerance) and (max_iter > iter):\n",
        "\n",
        "    gradient = 2 * (y- teta * X) * (-X) # gradient formula\n",
        "\n",
        "    # if gradeint is not descending break the loop\n",
        "    if abs(gradient) > abs(old_gradient):\n",
        "      print(\"Gradient is not descending\", gradient)\n",
        "      break\n",
        "\n",
        "    teta = teta - lr * gradient # update teta\n",
        "\n",
        "    old_gradient = gradient\n",
        "\n",
        "    iter += 1\n",
        "\n",
        "    if iter%100==0:\n",
        "      print(\"Iteration:\", iter)\n",
        "\n",
        "  return teta"
      ],
      "execution_count": 42,
      "outputs": []
    },
    {
      "cell_type": "code",
      "metadata": {
        "colab": {
          "base_uri": "https://localhost:8080/"
        },
        "id": "TyNBpDGeIP94",
        "outputId": "f893d871-0d56-4ceb-c3ab-4e844fe19780"
      },
      "source": [
        "gradient_descent(4, 12, lr=0.1, normalize = False)\n",
        "# lr is not small enough"
      ],
      "execution_count": 44,
      "outputs": [
        {
          "output_type": "stream",
          "name": "stdout",
          "text": [
            "random coef: 0.16267128160012523\n",
            "Gradient is not descending 199.74794177535125\n"
          ]
        },
        {
          "output_type": "execute_result",
          "data": {
            "text/plain": [
              "9.242123180479727"
            ]
          },
          "metadata": {},
          "execution_count": 44
        }
      ]
    },
    {
      "cell_type": "code",
      "metadata": {
        "colab": {
          "base_uri": "https://localhost:8080/"
        },
        "id": "0rDz56_LRMPW",
        "outputId": "714cf255-344f-43e0-af72-88b4e5057e07"
      },
      "source": [
        "gradient_descent(4, 12, lr=0.01, normalize = False)\n",
        "# when we decrease the lr, gradient can converge"
      ],
      "execution_count": 45,
      "outputs": [
        {
          "output_type": "stream",
          "name": "stdout",
          "text": [
            "random coef: 0.9250775127734752\n"
          ]
        },
        {
          "output_type": "execute_result",
          "data": {
            "text/plain": [
              "2.999999981057832"
            ]
          },
          "metadata": {},
          "execution_count": 45
        }
      ]
    },
    {
      "cell_type": "code",
      "metadata": {
        "colab": {
          "base_uri": "https://localhost:8080/"
        },
        "id": "259UbIG0RMRr",
        "outputId": "54f002a3-f56b-484c-af84-6c12f43c3c1b"
      },
      "source": [
        "gradient_descent(4, 12, lr=0.0001, normalize = False, max_iter=1000)\n",
        "# if we choose lr very small gradient will not converge also. We are expecting to converge at 2.9999999804192345 like this"
      ],
      "execution_count": 46,
      "outputs": [
        {
          "output_type": "stream",
          "name": "stdout",
          "text": [
            "random coef: 0.3894341568751395\n",
            "Iteration: 100\n",
            "Iteration: 200\n",
            "Iteration: 300\n",
            "Iteration: 400\n",
            "Iteration: 500\n",
            "Iteration: 600\n",
            "Iteration: 700\n",
            "Iteration: 800\n",
            "Iteration: 900\n",
            "Iteration: 1000\n"
          ]
        },
        {
          "output_type": "execute_result",
          "data": {
            "text/plain": [
              "2.8941321809368126"
            ]
          },
          "metadata": {},
          "execution_count": 46
        }
      ]
    },
    {
      "cell_type": "code",
      "metadata": {
        "colab": {
          "base_uri": "https://localhost:8080/"
        },
        "id": "pJbZff-vRMTx",
        "outputId": "596c3dd0-8c9b-491e-d6ff-f79c63041ed0"
      },
      "source": [
        "gradient_descent(4, 12, lr=0.001, normalize = False, max_iter=1000)\n",
        "# now it converged"
      ],
      "execution_count": 47,
      "outputs": [
        {
          "output_type": "stream",
          "name": "stdout",
          "text": [
            "random coef: 0.4519712155745077\n",
            "Iteration: 100\n",
            "Iteration: 200\n",
            "Iteration: 300\n",
            "Iteration: 400\n",
            "Iteration: 500\n"
          ]
        },
        {
          "output_type": "execute_result",
          "data": {
            "text/plain": [
              "2.9999999706130076"
            ]
          },
          "metadata": {},
          "execution_count": 47
        }
      ]
    },
    {
      "cell_type": "code",
      "metadata": {
        "id": "4V91lGJxWLqv"
      },
      "source": [
        "def gradient_descent(X, y, tolerance=10**-6, max_iter=1000, lr=0.1, normalize=False, return_errors=False):\n",
        "  if normalize :\n",
        "    X = X / y\n",
        "    y = y / y\n",
        "  \n",
        "  teta = np.random.random()\n",
        "  print(\"random coef:\", teta)\n",
        "\n",
        "  gradient = 10  # it is an arbitrary number to start while loop\n",
        "  iter = 0  # iteration number of while loop\n",
        "\n",
        "  old_gradient = float(\"inf\")  #\n",
        "  errors = []\n",
        "\n",
        "  while (abs(gradient) > tolerance) and (max_iter > iter):\n",
        "    \n",
        "    errors.append((y - teta * X)**2)\n",
        "    gradient = 2 * (y- teta * X) * (-X) # gradient formula\n",
        "\n",
        "    # if gradeint is not descending break the loop\n",
        "    if abs(gradient) > abs(old_gradient):\n",
        "      print(\"Gradient is not descending\", gradient)\n",
        "      break\n",
        "\n",
        "    teta = teta - lr * gradient # update teta\n",
        "\n",
        "    old_gradient = gradient\n",
        "\n",
        "    iter += 1\n",
        "\n",
        "    if iter%100==0:\n",
        "      print(\"Iteration:\", iter)\n",
        "  if return_errors:\n",
        "    return round(teta,6), errors\n",
        "  return teta"
      ],
      "execution_count": 58,
      "outputs": []
    },
    {
      "cell_type": "code",
      "metadata": {
        "colab": {
          "base_uri": "https://localhost:8080/",
          "height": 747
        },
        "id": "sUeFJzG6RMWb",
        "outputId": "9525ddb7-d883-4ae9-9af3-36c3a5a718a0"
      },
      "source": [
        "plt.figure(figsize=(12,8))\n",
        "for lr in [0.5, 0.1, 0.01, 0.001]:\n",
        "    _, errors = gradient_descent(3, 12, lr=lr, return_errors=True)\n",
        "    plt.plot(errors, label=f'lr={lr}')\n",
        "    \n",
        "\n",
        "plt.legend()\n",
        "\n",
        "plt.ylim(0, 100)"
      ],
      "execution_count": 66,
      "outputs": [
        {
          "output_type": "stream",
          "name": "stdout",
          "text": [
            "random coef: 0.08821667125080979\n",
            "Gradient is not descending 563.2967993398834\n",
            "random coef: 0.6122856612869193\n",
            "random coef: 0.5531756431151542\n",
            "random coef: 0.3575689572165426\n",
            "Iteration: 100\n",
            "Iteration: 200\n",
            "Iteration: 300\n",
            "Iteration: 400\n",
            "Iteration: 500\n",
            "Iteration: 600\n",
            "Iteration: 700\n",
            "Iteration: 800\n",
            "Iteration: 900\n"
          ]
        },
        {
          "output_type": "execute_result",
          "data": {
            "text/plain": [
              "(0.0, 100.0)"
            ]
          },
          "metadata": {},
          "execution_count": 66
        },
        {
          "output_type": "display_data",
          "data": {
            "image/png": "[encoded data removed]",
            "text/plain": [
              "<Figure size 864x576 with 1 Axes>"
            ]
          },
          "metadata": {
            "needs_background": "light"
          }
        }
      ]
    },
    {
      "cell_type": "code",
      "metadata": {
        "id": "6k8WPBzDIP_4"
      },
      "source": [
        ""
      ],
      "execution_count": null,
      "outputs": []
    },
    {
      "cell_type": "code",
      "metadata": {
        "id": "cXtdf5pZIQBm"
      },
      "source": [
        ""
      ],
      "execution_count": null,
      "outputs": []
    },
    {
      "cell_type": "code",
      "metadata": {
        "id": "-1zi6vvf40w8"
      },
      "source": [
        ""
      ],
      "execution_count": null,
      "outputs": []
    }
  ]
}